{
 "cells": [
  {
   "cell_type": "markdown",
   "id": "59cb5ecf",
   "metadata": {},
   "source": [
    "# Playlist Popularity"
   ]
  },
  {
   "cell_type": "markdown",
   "id": "9e5a3a71",
   "metadata": {},
   "source": [
    "# question 7"
   ]
  },
  {
   "cell_type": "markdown",
   "id": "f6419652",
   "metadata": {},
   "source": [
    "Is the playlist named “Brazilian Music” popular in Brazil?"
   ]
  },
  {
   "cell_type": "markdown",
   "id": "d7b5eb82",
   "metadata": {},
   "source": [
    "Which country loves the most “Brazilian Music” playlist based on customer purchases? \n",
    "\n",
    "To answer this, we select all the countries that have purchased the tracks in the playlist named “Brazilian Music”"
   ]
  },
  {
   "cell_type": "code",
   "execution_count": null,
   "id": "6cf6d2a0",
   "metadata": {},
   "outputs": [],
   "source": [
    "sql_query = \"\"\"\n",
    "SELECT\n",
    "  Customer.Country,\n",
    "  COUNT(Customer.Country) AS BrazilianMusicCount,\n",
    "  Playlist.Name\n",
    "\n",
    "FROM InvoiceLine\n",
    "JOIN Track\n",
    "  ON InvoiceLine.TrackId = Track.TrackId\n",
    "\n",
    "JOIN PlaylistTrack\n",
    "  ON PlaylistTrack.TrackId = Track.TrackId\n",
    "\n",
    "JOIN Playlist\n",
    "  ON Playlist.PlaylistId = PlaylistTrack.PlaylistId\n",
    "\n",
    "JOIN Invoice\n",
    "  ON Invoice.InvoiceId = InvoiceLine.InvoiceId\n",
    "  \n",
    "JOIN Customer\n",
    "  ON Invoice.CustomerId = Customer.CustomerId\n",
    "\n",
    "WHERE Playlist.Name LIKE 'Brazilian Music'\n",
    "GROUP BY 1\n",
    "ORDER BY 2 DESC\n",
    "\"\"\"\n",
    "\n",
    "pd.read_sql(sql_query, conn) "
   ]
  },
  {
   "cell_type": "code",
   "execution_count": null,
   "id": "756ca759",
   "metadata": {},
   "outputs": [],
   "source": [
    "import seaborn as sns\n",
    "df_BrazilMusic = pd.read_sql(sql_query, conn)\n",
    "sns.barplot(x = \"Country\", y=\"BrazilianMusicCount\",data=df_BrazilMusic);"
   ]
  },
  {
   "cell_type": "markdown",
   "id": "980826ce",
   "metadata": {},
   "source": [
    "This graph shows that the playlist named “Brazilian Music” is most liked by USA. But it is also popular in Brazil (rank 2). "
   ]
  },
  {
   "cell_type": "markdown",
   "id": "e1ff3aed",
   "metadata": {},
   "source": [
    "# Album Popularity"
   ]
  },
  {
   "cell_type": "markdown",
   "id": "b2ff26f0",
   "metadata": {},
   "source": [
    "# question 8"
   ]
  },
  {
   "cell_type": "markdown",
   "id": "181f145c",
   "metadata": {},
   "source": [
    "Find the most popular album: which album includes most hit tracks?"
   ]
  },
  {
   "cell_type": "markdown",
   "id": "9969ceaa",
   "metadata": {},
   "source": [
    "To answer this question, we first retrieved the track name, album name, albumID and trackID for all the albums in the database."
   ]
  },
  {
   "cell_type": "code",
   "execution_count": null,
   "id": "080a4e9c",
   "metadata": {},
   "outputs": [],
   "source": [
    "sql_query = \"\"\"\n",
    "SELECT Track.Name,\n",
    "       Album.Title AS Album,\n",
    "       Album.AlbumID,\n",
    "       Track.TrackId\n",
    "FROM Track INNER JOIN Album\n",
    "ON Track.AlbumId = Album.AlbumId; \n",
    "\"\"\"\n",
    "\n",
    "pd.read_sql(sql_query, conn) "
   ]
  },
  {
   "cell_type": "markdown",
   "id": "bc73a59f",
   "metadata": {},
   "source": [
    "Then, we listed the track name, the times this track is purchased, the album name it belongs to, albumID and trackID for the top 20 most purchased tracks. \n",
    "\n",
    "We find that the album named “A Real Dead One” (albumID: 95) includes four top 20 songs, more than any other albums."
   ]
  },
  {
   "cell_type": "code",
   "execution_count": null,
   "id": "46aab0e4",
   "metadata": {},
   "outputs": [],
   "source": [
    "sql_query = \"\"\"\n",
    "\n",
    "    SELECT tr.Name, COUNT(inl.InvoiceLineId), al.Title, al.AlbumId, tr.TrackId\n",
    "    FROM Track AS tr JOIN Album al\n",
    "    ON tr.AlbumId = al.AlbumId\n",
    "    JOIN InvoiceLine AS inl\n",
    "    WHERE tr.TrackId = Inl.TrackId\n",
    "    GROUP BY tr.Name\n",
    "    ORDER BY COUNT(inl.InvoiceLineId) DESC\n",
    "    Limit 20;\n",
    "\"\"\"\n",
    "\n",
    "pd.read_sql(sql_query, conn)# what albums include top 20 most purchased tracks?"
   ]
  },
  {
   "cell_type": "code",
   "execution_count": null,
   "id": "fe9cd66f",
   "metadata": {},
   "outputs": [],
   "source": [
    "import matplotlib.pyplot as plt\n",
    "import numpy as np\n",
    "\n",
    "y = np.array([25, 75])\n",
    "\n",
    "plt.pie(y,\n",
    "        labels=['album 95','other albums'], # labels \n",
    "        colors=[\"#d5695d\", \"#5d8ca8\"], # colors\n",
    "       )\n",
    "plt.title(\"which album includes most hit songs?\") # pie chart title\n",
    "plt.show()"
   ]
  },
  {
   "cell_type": "markdown",
   "id": "d3d1626b",
   "metadata": {},
   "source": [
    "# question 9"
   ]
  },
  {
   "cell_type": "markdown",
   "id": "c00a4537",
   "metadata": {},
   "source": [
    "We can see from the dataset that customers make their purchases by purchasing individual tracks/songs instead of the whole album. This means that chinook customers could purchase any single track they like, without having to purchase the whole album for just one/two tracks they really want (this could be wonderful! You don't need to pay for other tracks you are less interested in in the album).\n",
    "\n",
    "Let us now have a look at how customers make their purchases: whether they tend to buy individual tracks or not?"
   ]
  },
  {
   "cell_type": "code",
   "execution_count": 35,
   "id": "79a0d0e4",
   "metadata": {},
   "outputs": [
    {
     "data": {
      "text/html": [
       "<div>\n",
       "<style scoped>\n",
       "    .dataframe tbody tr th:only-of-type {\n",
       "        vertical-align: middle;\n",
       "    }\n",
       "\n",
       "    .dataframe tbody tr th {\n",
       "        vertical-align: top;\n",
       "    }\n",
       "\n",
       "    .dataframe thead th {\n",
       "        text-align: right;\n",
       "    }\n",
       "</style>\n",
       "<table border=\"1\" class=\"dataframe\">\n",
       "  <thead>\n",
       "    <tr style=\"text-align: right;\">\n",
       "      <th></th>\n",
       "      <th>album_purchase</th>\n",
       "      <th>number_of_invoices</th>\n",
       "      <th>percent</th>\n",
       "    </tr>\n",
       "  </thead>\n",
       "  <tbody>\n",
       "    <tr>\n",
       "      <th>0</th>\n",
       "      <td>no</td>\n",
       "      <td>412</td>\n",
       "      <td>100.0</td>\n",
       "    </tr>\n",
       "  </tbody>\n",
       "</table>\n",
       "</div>"
      ],
      "text/plain": [
       "  album_purchase  number_of_invoices  percent\n",
       "0             no                 412    100.0"
      ]
     },
     "execution_count": 35,
     "metadata": {},
     "output_type": "execute_result"
    }
   ],
   "source": [
    "sql_query = '''\n",
    "WITH invoice_first_track AS\n",
    "    (\n",
    "     SELECT\n",
    "         il.invoiceid invoiceid,\n",
    "         MIN(il.trackid) first_trackid\n",
    "     FROM invoiceline il\n",
    "     GROUP BY 1\n",
    "    )\n",
    "\n",
    "SELECT\n",
    "    album_purchase,\n",
    "    COUNT(invoiceid) number_of_invoices,\n",
    "    (CAST(count(invoiceid) AS FLOAT) / (\n",
    "                                         SELECT COUNT(*) FROM invoice) * 100\n",
    "                                      ) percent\n",
    "FROM\n",
    "    (\n",
    "    SELECT\n",
    "        ifs.*,\n",
    "        CASE\n",
    "            WHEN\n",
    "                 (\n",
    "                  SELECT t.trackid FROM track t\n",
    "                  WHERE t.albumid = (\n",
    "                                      SELECT t2.albumid FROM track t2\n",
    "                                      WHERE t2.trackid = ifs.first_trackid\n",
    "                                     ) \n",
    "\n",
    "                  EXCEPT \n",
    "\n",
    "                  SELECT il2.trackid FROM invoiceline il2\n",
    "                  WHERE il2.invoiceid = ifs.invoiceid\n",
    "                 ) IS NULL\n",
    "             AND\n",
    "                 (\n",
    "                  SELECT il2.trackid FROM invoiceline il2\n",
    "                  WHERE il2.invoiceid = ifs.invoiceid\n",
    "\n",
    "                  EXCEPT \n",
    "\n",
    "                  SELECT t.trackid FROM track t\n",
    "                  WHERE t.albumid = (\n",
    "                                      SELECT t2.albumid FROM track t2\n",
    "                                      WHERE t2.trackid = ifs.first_trackid\n",
    "                                     ) \n",
    "                 ) IS NULL\n",
    "             THEN \"yes\"\n",
    "             ELSE \"no\"\n",
    "         END AS \"album_purchase\"\n",
    "     FROM invoice_first_track ifs\n",
    "    )\n",
    "album_purchase;\n",
    "'''\n",
    "pd.read_sql(sql_query, conn)"
   ]
  },
  {
   "cell_type": "markdown",
   "id": "c31b7acd",
   "metadata": {},
   "source": [
    "Individual track purchases account for 100% of purchases!"
   ]
  },
  {
   "cell_type": "markdown",
   "id": "1bba72b0",
   "metadata": {},
   "source": [
    "# Artist Popularity"
   ]
  },
  {
   "cell_type": "markdown",
   "id": "a850ef0e",
   "metadata": {},
   "source": [
    "# question 10"
   ]
  },
  {
   "cell_type": "markdown",
   "id": "22188e65",
   "metadata": {},
   "source": [
    "Who are the top 20 best selling artist in the five years (2009-2013) and how much do these artists earn from their music over these years?"
   ]
  },
  {
   "cell_type": "markdown",
   "id": "b04b019f",
   "metadata": {},
   "source": [
    "To answer this question, we select the top 20 best selling artists according to the sales amount of their tracks, and we list the income each of these artists(composer/band) earn from their tracks. "
   ]
  },
  {
   "cell_type": "code",
   "execution_count": null,
   "id": "96474090",
   "metadata": {},
   "outputs": [],
   "source": [
    "sql_query = \"\"\"\n",
    "SELECT\n",
    "  ar.Name AS ComposerName_BandName,\n",
    "  SUM(tr.UnitPrice) AS Income\n",
    "FROM Track tr\n",
    "JOIN InvoiceLine in_line\n",
    "  ON tr.TrackId = in_line.TrackId\n",
    "JOIN Album al\n",
    "  ON al.AlbumId = tr.AlbumId\n",
    "JOIN Artist ar\n",
    "  ON ar.ArtistId = al.ArtistId\n",
    "GROUP BY 1\n",
    "ORDER BY 2 DESC\n",
    "LIMIT 20;\n",
    "\"\"\"\n",
    "\n",
    "pd.read_sql(sql_query, conn)"
   ]
  },
  {
   "cell_type": "code",
   "execution_count": null,
   "id": "af31e433",
   "metadata": {},
   "outputs": [],
   "source": [
    "import seaborn as sns\n",
    "df = pd.read_sql(sql_query, conn)\n",
    "sns.barplot(x = \"ComposerName_BandName\", y=\"Income\",data=df);"
   ]
  },
  {
   "cell_type": "markdown",
   "id": "4122906b",
   "metadata": {},
   "source": [
    "This bar chart visualizes our query result, and it shows that “Iron Maiden” is the best selling artist over these years! \n",
    "\n",
    "Also, since the top 4 best selling artists are all rock band, this again exemplifies that rock music is really popular! "
   ]
  }
 ],
 "metadata": {
  "kernelspec": {
   "display_name": "Python 3 (ipykernel)",
   "language": "python",
   "name": "python3"
  },
  "language_info": {
   "codemirror_mode": {
    "name": "ipython",
    "version": 3
   },
   "file_extension": ".py",
   "mimetype": "text/x-python",
   "name": "python",
   "nbconvert_exporter": "python",
   "pygments_lexer": "ipython3",
   "version": "3.9.12"
  }
 },
 "nbformat": 4,
 "nbformat_minor": 5
}
